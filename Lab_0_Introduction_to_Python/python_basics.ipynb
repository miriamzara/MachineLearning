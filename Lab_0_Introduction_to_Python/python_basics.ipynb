{
 "cells": [
  {
   "cell_type": "markdown",
   "metadata": {},
   "source": [
    "In this notebook we are going to see some fundamentals of Python and of the related packages (Numpy, Scikit-learn, etc.) "
   ]
  },
  {
   "cell_type": "markdown",
   "metadata": {},
   "source": [
    "# Arrays in numpy"
   ]
  },
  {
   "cell_type": "code",
   "execution_count": 21,
   "metadata": {},
   "outputs": [
    {
     "name": "stdout",
     "output_type": "stream",
     "text": [
      "a:\n",
      "[1. 2. 3.]\n",
      "a.shape = (3,)\n",
      "\n",
      "b:\n",
      "[[1 2 3]\n",
      " [4 5 6]]\n",
      "b.shape = (2, 3)\n",
      "\n",
      "c:\n",
      "[[0. 0.]\n",
      " [0. 0.]\n",
      " [0. 0.]]\n",
      "c.shape (3, 2)\n",
      "\n",
      "c1:\n",
      "[[1. 2. 3.]]\n",
      "c1.shape = (1, 3)  <- notice the difference with the first example (a) !!\n",
      "\n",
      "d:\n",
      "[[1. 1. 1.]\n",
      " [1. 1. 1.]]\n",
      "\n",
      "e:\n",
      "[[1. 0. 0. 0.]\n",
      " [0. 1. 0. 0.]\n",
      " [0. 0. 1. 0.]\n",
      " [0. 0. 0. 1.]]\n",
      "\n",
      "f:\n",
      "[[0.2978403  0.86118454 0.97853982 0.90239901]\n",
      " [0.61399409 0.96707241 0.566517   0.3994777 ]]\n",
      "\n"
     ]
    }
   ],
   "source": [
    "import numpy as np\n",
    "#create vector given values in it\n",
    "a = np.array([1.0, 2.0, 3.0])\n",
    "print('a:')\n",
    "print(a)\n",
    "print('a.shape =', a.shape, end='\\n\\n')\n",
    "\n",
    "#create matrix  given values in it\n",
    "b = np.array([[1, 2, 3], [4, 5, 6]])\n",
    "print('b:')\n",
    "print(b)\n",
    "print('b.shape =', b.shape, end='\\n\\n')\n",
    "\n",
    "#create matrix of 0's of given size\n",
    "c = np.zeros((3,2))\n",
    "print('c:')\n",
    "print(c)\n",
    "print('c.shape', c.shape, end='\\n\\n')\n",
    "\n",
    "#create matrix of size 1x3 (different from array of 3 elements!)\n",
    "c1 = np.zeros((1,3))\n",
    "c1[0,:] = [1, 2, 3]\n",
    "print('c1:')\n",
    "print(c1)\n",
    "print('c1.shape =', c1.shape, ' <- notice the difference with the first example (a) !!', end='\\n\\n')\n",
    "\n",
    "#create matrix of 1's of given size\n",
    "d = np.ones((2,3))\n",
    "print('d:')\n",
    "print(d, end='\\n\\n')\n",
    "\n",
    "#create identity matrix of given size\n",
    "e = np.eye(4)\n",
    "print('e:')\n",
    "print(e, end='\\n\\n')\n",
    "\n",
    "#create random matrix (values in [0,1]) of given size\n",
    "f = np.random.random((2,4))\n",
    "print('f:')\n",
    "print(f, end='\\n\\n')"
   ]
  },
  {
   "cell_type": "markdown",
   "metadata": {},
   "source": [
    "# Array indexing in numpy"
   ]
  },
  {
   "cell_type": "code",
   "execution_count": 22,
   "metadata": {},
   "outputs": [
    {
     "name": "stdout",
     "output_type": "stream",
     "text": [
      "[[ 1  5  7  9]\n",
      " [ 2  6  8 10]]\n"
     ]
    }
   ],
   "source": [
    "e = np.array([[1,5,7,9],[2,6,8,10]]);\n",
    "print(e[:,:])"
   ]
  },
  {
   "cell_type": "markdown",
   "metadata": {},
   "source": [
    "# Reading from CSV file: built-in functions method [1/2]"
   ]
  },
  {
   "cell_type": "code",
   "execution_count": 9,
   "metadata": {},
   "outputs": [
    {
     "name": "stdout",
     "output_type": "stream",
     "text": [
      "Line:\n",
      "1,23,21,20\n",
      "<class 'list'> ['1', '23', '21', '20']\n",
      "List: ['1', '23', '21', '20']\n",
      "<class 'str'>\n",
      "Elements in list:\n",
      "1 23 21 20 \n",
      "\n",
      "Line:\n",
      "2,28,30,29\n",
      "<class 'list'> ['2', '28', '30', '29']\n",
      "List: ['2', '28', '30', '29']\n",
      "<class 'str'>\n",
      "Elements in list:\n",
      "2 28 30 29 \n",
      "\n",
      "Line:\n",
      "3,25,20,29\n",
      "<class 'list'> ['3', '25', '20', '29']\n",
      "List: ['3', '25', '20', '29']\n",
      "<class 'str'>\n",
      "Elements in list:\n",
      "3 25 20 29 \n",
      "\n"
     ]
    }
   ],
   "source": [
    "file_name = \"data/marks.csv\"\n",
    "infile = open(file_name,'r')\n",
    "line_c = 0 # line counter\n",
    "for line in infile:\n",
    "    if line_c <=2:  # read only the first 4 lines\n",
    "        line = line.strip() #strip removes whitespaces and newlines characters\n",
    "        print(\"Line:\\n\"+line) # newline removed ^\n",
    "        v = line.split(',') # split breaks up the string in chunks delimited by the argument\n",
    "        print(type(v), v) # either print v like this\n",
    "        print(\"List: \"+ str(v)) # or cast to list and use + to concatenate\n",
    "        print(type(v[0])) # v is a list of strings\n",
    "        print(\"Elements in list:\")\n",
    "        for i in range(len(v)):\n",
    "            print(v[i].strip(), end=' ') #strip removes whitespaces, end parameter avoids newline\n",
    "        print('\\n')\n",
    "    line_c += 1\n",
    "infile.close()  # remember to close the file when not used anymore"
   ]
  },
  {
   "cell_type": "markdown",
   "metadata": {},
   "source": [
    "### Automatic file.close() – 'with' environment"
   ]
  },
  {
   "cell_type": "markdown",
   "metadata": {},
   "source": [
    "Sometimes one does not need the complexity allowed by f = open(filename) ... f.close().\\\n",
    "In those cases we can use the **with** environment."
   ]
  },
  {
   "cell_type": "code",
   "execution_count": null,
   "metadata": {},
   "outputs": [],
   "source": [
    "file_name = \"data/marks.csv\"\n",
    "line_c = 0\n",
    "with open(file_name,'r') as infile:  # infile = open(file_name,'r')\n",
    "    for line in infile:\n",
    "        if line_c <=4:  # read only the first 4 lines\n",
    "            line = line.strip() #strip removes whitespaces and newlines characters\n",
    "            print(\"Line:\\n\"+line) # newline removed ^\n",
    "            v = line.split(',') # split breaks up the string in chunks delimited by the argument\n",
    "            print(\"List: \"+str(v))\n",
    "            print(\"Elements in list:\")\n",
    "            for i in range(len(v)):\n",
    "                print(v[i].strip(), end=' ') #strip removes whitespaces\n",
    "            print('\\n')\n",
    "        line_c += 1\n",
    "# infile.close() executed automatically when we exit the indented block"
   ]
  },
  {
   "cell_type": "markdown",
   "metadata": {},
   "source": [
    "# Writing to file"
   ]
  },
  {
   "cell_type": "code",
   "execution_count": null,
   "metadata": {},
   "outputs": [],
   "source": [
    "infile_name = \"data/marks.csv\"\n",
    "infile = open(file_name,'r')\n",
    "line_c = 0\n",
    "outfile_name = \"tmp.txt\"\n",
    "outfile = open(outfile_name,'w')\n",
    "for line in infile:\n",
    "    if line_c <=4:\n",
    "        outfile.write(\"Line:\\n\"+line+\"\\n\")\n",
    "        v = line.split(',')\n",
    "        outfile.write(\"List: \"+str(v)+\"\\n\")\n",
    "        outfile.write(\"Elements in list:\\n\")\n",
    "        for i in range(len(v)):\n",
    "            outfile.write(v[i].strip()+\"\\n\")\n",
    "    line_c += 1\n",
    "infile.close()\n",
    "outfile.write(str(10.))\n",
    "outfile.close()"
   ]
  },
  {
   "cell_type": "markdown",
   "metadata": {},
   "source": [
    "# Reading from CSV file: csv library method [2/2]"
   ]
  },
  {
   "cell_type": "code",
   "execution_count": 15,
   "metadata": {},
   "outputs": [
    {
     "name": "stdout",
     "output_type": "stream",
     "text": [
      "type(lines) =  <class '_csv.reader'>\n"
     ]
    },
    {
     "ename": "TypeError",
     "evalue": "'_csv.reader' object is not subscriptable",
     "output_type": "error",
     "traceback": [
      "\u001b[0;31m---------------------------------------------------------------------------\u001b[0m",
      "\u001b[0;31mTypeError\u001b[0m                                 Traceback (most recent call last)",
      "Cell \u001b[0;32mIn[15], line 7\u001b[0m\n\u001b[1;32m      5\u001b[0m lines \u001b[38;5;241m=\u001b[39m csv\u001b[38;5;241m.\u001b[39mreader(\u001b[38;5;28mopen\u001b[39m(filename, newline\u001b[38;5;241m=\u001b[39m\u001b[38;5;124m'\u001b[39m\u001b[38;5;124m'\u001b[39m), delimiter\u001b[38;5;241m=\u001b[39m\u001b[38;5;124m'\u001b[39m\u001b[38;5;124m,\u001b[39m\u001b[38;5;124m'\u001b[39m)\n\u001b[1;32m      6\u001b[0m \u001b[38;5;28mprint\u001b[39m(\u001b[38;5;124m'\u001b[39m\u001b[38;5;124mtype(lines) = \u001b[39m\u001b[38;5;124m'\u001b[39m, \u001b[38;5;28mtype\u001b[39m(lines))\n\u001b[0;32m----> 7\u001b[0m \u001b[38;5;28mprint\u001b[39m(\u001b[38;5;124m'\u001b[39m\u001b[38;5;124mtype(lines[0]) = \u001b[39m\u001b[38;5;124m'\u001b[39m, \u001b[38;5;28mtype\u001b[39m(\u001b[43mlines\u001b[49m\u001b[43m[\u001b[49m\u001b[38;5;241;43m0\u001b[39;49m\u001b[43m]\u001b[49m))\n\u001b[1;32m      9\u001b[0m \u001b[38;5;28;01mfor\u001b[39;00m line \u001b[38;5;129;01min\u001b[39;00m lines:\n\u001b[1;32m     10\u001b[0m     \u001b[38;5;28mprint\u001b[39m(line)\n",
      "\u001b[0;31mTypeError\u001b[0m: '_csv.reader' object is not subscriptable"
     ]
    }
   ],
   "source": [
    "import csv\n",
    "\n",
    "filename = \"data/marks.csv\"\n",
    "\n",
    "lines = csv.reader(open(filename, newline=''), delimiter=',')\n",
    "print('type(lines) = ', type(lines))\n",
    "#print('type(lines[0]) = ', type(lines[0])) #does NOT work: csv.reader object is not subscrictable\n",
    "# Instead, you need to access elements in a loop\n",
    "for line in lines:\n",
    "    print(line)"
   ]
  },
  {
   "cell_type": "code",
   "execution_count": null,
   "metadata": {},
   "outputs": [],
   "source": [
    "import csv\n",
    "\n",
    "filename = \"data/marks.csv\"\n",
    "lines = csv.reader(open(filename, newline=''), delimiter=',')\n",
    "\n",
    "dataset = list(lines)\n",
    "for i in range(len(dataset)):\n",
    "    dataset[i] = [float(x) for x in dataset[i]]\n",
    "print(dataset)\n",
    "print('Number of students:', len(dataset), end='\\n\\n')\n",
    "# you can convert lists to numpy for automatic print formatting:\n",
    "print(np.array(dataset))"
   ]
  }
 ],
 "metadata": {
  "kernelspec": {
   "display_name": "myenv",
   "language": "python",
   "name": "python3"
  },
  "language_info": {
   "codemirror_mode": {
    "name": "ipython",
    "version": 3
   },
   "file_extension": ".py",
   "mimetype": "text/x-python",
   "name": "python",
   "nbconvert_exporter": "python",
   "pygments_lexer": "ipython3",
   "version": "3.12.0"
  }
 },
 "nbformat": 4,
 "nbformat_minor": 4
}
