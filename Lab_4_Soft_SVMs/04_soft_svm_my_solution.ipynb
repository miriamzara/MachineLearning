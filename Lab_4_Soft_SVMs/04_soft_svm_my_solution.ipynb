{
 "cells": [
  {
   "cell_type": "markdown",
   "metadata": {},
   "source": [
    "# Machine Learning LAB 4: Soft SVM\n",
    "\n",
    "Course 2024/25: *F. Chiariotti*\n",
    "\n",
    "The notebook contains a simple learning task over which we will implement a **SOFT SUPPORT VECTOR MACHINE**.\n",
    "\n",
    "Complete all the **required code sections**.\n",
    "\n",
    "### IMPORTANT for the exam:\n",
    "\n",
    "The functions you might be required to implement in the exam will have the same signature and parameters as the ones in the labs"
   ]
  },
  {
   "cell_type": "markdown",
   "metadata": {},
   "source": [
    "## Classification of Stayed/Churned Customers"
   ]
  },
  {
   "cell_type": "markdown",
   "metadata": {},
   "source": [
    "The Customer Churn table contains information on all 3,758 customers from a Telecommunications company in California in Q2 2022. Companies are naturally interested in churn, i.e., in which users are likely to switch to another company soon to get a better deal, and which are more loyal customers.\n",
    "\n",
    "The dataset contains three features:\n",
    "- **Tenure in Months**: Number of months the customer has stayed with the company\n",
    "- **Monthly Charge**: The amount charged to the customer monthly\n",
    "- **Age**: Customer's age\n",
    "\n",
    "The aim of the task is to predict if a customer will churn or not based on the three features."
   ]
  },
  {
   "cell_type": "markdown",
   "metadata": {},
   "source": [
    "---"
   ]
  },
  {
   "cell_type": "markdown",
   "metadata": {},
   "source": [
    "## Import all the necessary Python libraries and load the dataset"
   ]
  },
  {
   "cell_type": "markdown",
   "metadata": {},
   "source": [
    "### The Dataset\n",
    "The dataset is a `.csv` file containing three input features and a label. Here is an example of the first 4 rows of the dataset: \n",
    "\n",
    "<center>\n",
    "\n",
    "Tenure in Months | Monthly Charge | Age | Customer Status |\n",
    "| -----------------| ---------------|-----|-----------------|\n",
    "| 9 | 65.6 | 37 | 0 |\n",
    "| 9 | -4.0 | 46 | 0 |\n",
    "| 4 | 73.9 | 50 | 1 |\n",
    "| ... | ... | ... | ... |\n",
    "\n",
    "</center>\n",
    "\n",
    "Customer Status is 0 if the customer has stayed with the company and 1 if the customer has churned."
   ]
  },
  {
   "cell_type": "code",
   "execution_count": 1,
   "metadata": {},
   "outputs": [],
   "source": [
    "import numpy as np\n",
    "import pandas as pd\n",
    "import random as rnd\n",
    "from matplotlib import pyplot as plt\n",
    "from sklearn import linear_model, preprocessing\n",
    "from sklearn.model_selection import train_test_split\n",
    "\n",
    "np.random.seed(1)\n",
    "\n",
    "def load_dataset(filename):\n",
    "    data_train = pd.read_csv(filename)\n",
    "    #permute the data\n",
    "    data_train = data_train.sample(frac=1).reset_index(drop=True) # shuffle the data\n",
    "    X = data_train.iloc[:, 0:3].values # Get first two columns as the input\n",
    "    Y = data_train.iloc[:, 3].values # Get the third column as the label\n",
    "    Y = 2*Y-1 # Make sure labels are -1 or 1 (0 --> -1, 1 --> 1)\n",
    "    return X,Y\n",
    "\n",
    "# Load the dataset\n",
    "X, Y = load_dataset('data/telecom_customer_churn_cleaned.csv')"
   ]
  },
  {
   "cell_type": "markdown",
   "metadata": {},
   "source": [
    "We are going to differentiate (classify) between **class \"1\" (churned)** and **class \"-1\" (stayed)**"
   ]
  },
  {
   "cell_type": "markdown",
   "metadata": {},
   "source": [
    "## Divide the data into training and test sets"
   ]
  },
  {
   "cell_type": "code",
   "execution_count": 2,
   "metadata": {},
   "outputs": [
    {
     "name": "stdout",
     "output_type": "stream",
     "text": [
      "Number of samples in the train set: 2817\n",
      "Number of samples in the test set: 940\n",
      "Number of churned users in test: 479\n",
      "Number of loyal users in test: 461\n",
      "Mean of the training input data: [-0.  0. -0.]\n",
      "Std of the training input data: [1. 1. 1.]\n",
      "Mean of the test input data: [0.0575483  0.05550169 0.0073833 ]\n",
      "Std of the test input data: [0.98593187 0.97629659 1.00427583]\n"
     ]
    }
   ],
   "source": [
    "# Compute the splits\n",
    "m_training = int(0.75*X.shape[0])\n",
    "\n",
    "# m_test is the number of samples in the test set (total-training)\n",
    "m_test =  X.shape[0] - m_training\n",
    "X_training =  X[:m_training]\n",
    "Y_training =  Y[:m_training]\n",
    "X_test =   X[m_training:]\n",
    "Y_test =  Y[m_training:]\n",
    "\n",
    "print(\"Number of samples in the train set:\", X_training.shape[0])\n",
    "print(\"Number of samples in the test set:\", X_test.shape[0])\n",
    "print(\"Number of churned users in test:\", np.sum(Y_test==-1))\n",
    "print(\"Number of loyal users in test:\", np.sum(Y_test==1))\n",
    "\n",
    "# Standardize the input matrix\n",
    "# The transformation is computed on training data and then used on all the 3 sets\n",
    "scaler = preprocessing.StandardScaler().fit(X_training) \n",
    "\n",
    "np.set_printoptions(suppress=True) # sets to zero floating point numbers < min_float_eps\n",
    "X_training =  scaler.transform(X_training)\n",
    "print (\"Mean of the training input data:\", X_training.mean(axis=0))\n",
    "print (\"Std of the training input data:\",X_training.std(axis=0))\n",
    "\n",
    "X_test =  scaler.transform(X_test)\n",
    "print (\"Mean of the test input data:\", X_test.mean(axis=0))\n",
    "print (\"Std of the test input data:\", X_test.std(axis=0))"
   ]
  },
  {
   "cell_type": "markdown",
   "metadata": {},
   "source": [
    "We will use **homogeneous coordinates** to describe all the coefficients of the model.\n",
    "\n",
    "_Hint:_ The conversion can be performed with the function $hstack$ in $numpy$."
   ]
  },
  {
   "cell_type": "code",
   "execution_count": 3,
   "metadata": {},
   "outputs": [],
   "source": [
    "def to_homogeneous(X_training, X_test):\n",
    "    Xh_training = np.hstack([np.ones( (X_training.shape[0], 1) ), X_training])\n",
    "    Xh_test = np.hstack([np.ones( (X_test.shape[0], 1) ), X_test])\n",
    "    return Xh_training, Xh_test"
   ]
  },
  {
   "cell_type": "code",
   "execution_count": 4,
   "metadata": {},
   "outputs": [
    {
     "name": "stdout",
     "output_type": "stream",
     "text": [
      "Training set in homogeneous coordinates:\n",
      "[[ 1.         -0.3798618  -1.57020044  0.85174963]\n",
      " [ 1.         -0.87925308  0.47180292  1.08667766]\n",
      " [ 1.         -0.75440526 -0.6130632  -0.26415851]\n",
      " [ 1.         -1.12894873  0.09856916 -0.96894261]\n",
      " [ 1.         -1.12894873 -0.58486332 -1.20387064]\n",
      " [ 1.          1.78416712  1.39908145  0.08823353]\n",
      " [ 1.         -0.7960212  -1.0990965  -0.32289052]\n",
      " [ 1.          0.20276137 -0.39907585 -0.96894261]\n",
      " [ 1.         -0.62955744  0.63934341  0.96921364]\n",
      " [ 1.         -0.87925308  1.13201197 -0.02923048]]\n"
     ]
    }
   ],
   "source": [
    "# convert to homogeneous coordinates using the function above\n",
    "X_training, X_test = to_homogeneous(X_training, X_test)\n",
    "print(\"Training set in homogeneous coordinates:\")\n",
    "print(X_training[:10])"
   ]
  },
  {
   "cell_type": "markdown",
   "metadata": {},
   "source": [
    "## Soft SVM with stochastic gradient descent\n",
    "\n",
    "Now **complete** the function *sgd_soft_svm* and all auxiliary functions. <br>\n",
    "You should select *a single sample*, compute the gradient, and run the soft SVM version.\n",
    "\n",
    "The input parameters to pass are:\n",
    "- $X$: the matrix of input features, one row for each sample\n",
    "- $Y$: the vector of labels for the input features matrix X\n",
    "- $max\\_num\\_iterations$: the maximum number of iterations for running the soft SVM\n",
    "- $averaging\\_iterations$: the number of iterations to consider when averaging\n",
    "\n",
    "The output values are:\n",
    "- $best\\_w$: the vector with the coefficients of the best model\n",
    "- $margin$: the *margin* of the best model\n",
    "- $outliers$: the number of outliers that are classified correctly by the best model\n",
    "- $misclassified$: the number of outliers that are misclassified by the best model"
   ]
  },
  {
   "cell_type": "code",
   "execution_count": 34,
   "metadata": {},
   "outputs": [],
   "source": [
    "from numpy.linalg import norm\n",
    "\n",
    "def find_margin(current_w):  \n",
    "    # TODO Return the margin for the selected model\n",
    "    margin = np.max([1/ norm(current_w), 10e-9]) # a tolerance to prevent division by zero\n",
    "    return margin\n",
    "    \n",
    "\n",
    "def count_outliers(current_w, X, Y):\n",
    "    \"\"\"\n",
    "    Returns the absolute number of total samples inside the margin (n_outliers) and missclassified samples (n_misclassified)\n",
    "    \"\"\"\n",
    "    # TODO Return a tuple containing 2 numbers:\n",
    "    # First, the number of total outliers (distance below the margin)\n",
    "    # Second, the number of misclassified outliers\n",
    "    margin = find_margin(current_w) # a tolerance to prevent division by zero\n",
    "    signed_distances = np.dot(X, current_w) * Y\n",
    "    tot_outliers_mask = ( signed_distances < margin )\n",
    "    n_outliers = len(signed_distances[tot_outliers_mask])\n",
    "    misclassified_outliers_mask = ( signed_distances < 0 )\n",
    "    n_misclassified= len(signed_distances[misclassified_outliers_mask])\n",
    "    return (n_outliers, n_misclassified)\n",
    "\n",
    "    \n",
    "\n",
    "def sgd_soft_svm(X: np.ndarray, Y: np.ndarray, lambda_par: float, max_num_iterations: int, averaging_iterations: int):\n",
    "    # TODO complete function\n",
    "    \"\"\"\n",
    "    Returns:\n",
    "    - best_w: weight vector \n",
    "    - margin: margin_width corresponding to best_w\n",
    "    - outliers_tuple: fraction of samples inside margin (outliers_tuple[0]) and misclassified (outliers_tuple[1])\n",
    "    \"\"\"\n",
    "    # Initialize the weights of the algorith with w=0\n",
    "    theta = np.zeros(X.shape[1])\n",
    "    best_w = np.zeros(X.shape[1])\n",
    "    num_samples = X.shape[0]\n",
    "\n",
    "    w_sum = np.zeros(X.shape[1])\n",
    "    # Loop the SGD algorithm\n",
    "    for num_iter in range(1, max_num_iterations):\n",
    "        # Compute the current weights\n",
    "        current_w = ( 1/ (lambda_par * num_iter) ) * theta\n",
    "        # Compute the gradient over a random point\n",
    "        i = np.random.choice(np.arange(0, num_samples), size = 1)\n",
    "        signed_distance = Y[i] * np.dot(X[i, :], current_w)\n",
    "        if signed_distance < 1:\n",
    "            # outlier\n",
    "            theta += Y[i] * X[i, :].flatten() # without flatten, X has shape (1, 4) while theta (4, )\n",
    "        if (num_iter - 1 >= max_num_iterations - averaging_iterations):\n",
    "            # Use the current model for averaging\n",
    "            w_sum += current_w\n",
    "    best_w = w_sum/ averaging_iterations # maybe to be normalized?\n",
    "    margin = find_margin(best_w)\n",
    "    outliers_fraction_tuple = np.asarray(count_outliers(best_w, X, Y))/ len(X)\n",
    "    return best_w, margin, outliers_fraction_tuple"
   ]
  },
  {
   "cell_type": "markdown",
   "metadata": {},
   "source": [
    "Now we use the implementation to learn a model from the training data using 100000 iterations and averaging over the last 10000. Let us consider $\\lambda=1$. Then we use the best model $best\\_w$ to **predict the labels for the test dataset** and print the fraction of outliers in the test set (the test error that is an estimate of the true loss)."
   ]
  },
  {
   "cell_type": "code",
   "execution_count": 33,
   "metadata": {},
   "outputs": [
    {
     "name": "stdout",
     "output_type": "stream",
     "text": [
      "Soft SVM model: [ 0.01736695 -0.9051096   0.40795861  0.13020333]\n",
      "Soft SVM margin: 0.9985490928387598\n",
      "\n",
      "Total outlier fraction: 0.6872559460418886\n",
      "Misclassified points fraction: 0.26091586794462196 \n",
      "\n",
      "Total outlier fraction (test set): 0.7053191489361702\n",
      "True loss (test set): 0.2531914893617021\n"
     ]
    }
   ],
   "source": [
    "\n",
    "# Now run the Soft SVM with lambda=0.1. Consider 100000 iterations, 10000 of which are avera\n",
    "best_w, margin, outliers_tuple = sgd_soft_svm(X_training, Y_training, 0.1, int(1e5), int(1e4))\n",
    "print(\"Soft SVM model: \" + str(best_w))\n",
    "print(\"Soft SVM margin: \" + str(margin), end= '\\n\\n')\n",
    "print(\"Total outlier fraction: \" + str(outliers_tuple[0]))\n",
    "print(\"Misclassified points fraction: \" + str(outliers_tuple[1]), '\\n')\n",
    "\n",
    "true_error = np.asarray(count_outliers(best_w, X_test, Y_test))/ len(X_test)\n",
    "print(\"Total outlier fraction (test set): \" + str(true_error[0]))\n",
    "print(\"True loss (test set): \" + str(true_error[1])) #only misclassified points count as errors"
   ]
  },
  {
   "cell_type": "markdown",
   "metadata": {},
   "source": [
    "Now let us compare the result with your perceptron function from Lab 2."
   ]
  },
  {
   "cell_type": "code",
   "execution_count": 7,
   "metadata": {},
   "outputs": [],
   "source": [
    "def perceptron_randomized_update(current_w, X, Y):\n",
    "    # TODO: write the perceptron update function\n",
    "    n, index = count_errors_perceptron(current_w, X, Y)\n",
    "    if n > 0:\n",
    "        i = np.random.choice(index, size = 1)\n",
    "        current_w += X[i, :].flatten() * Y[i]\n",
    "    return current_w\n",
    "\n",
    "def count_errors_perceptron(current_w, X, Y):\n",
    "    # Find all indices which have a different sign from the corresponding labels\n",
    "    index = np.nonzero(np.sign(np.dot(X, current_w)) - Y)[0]\n",
    "    n = len(index)\n",
    "    if (n == 0):\n",
    "        # There are no misclassified samples\n",
    "        return 0, -1\n",
    "    return n, index\n",
    "\n",
    "def perceptron_with_randomization(X:np.ndarray, Y:np.ndarray, max_num_iterations: int):\n",
    "    # TODO: write the perceptron main loop\n",
    "    current_w = np.zeros(X.shape[1])\n",
    "    best_w = np.zeros(X.shape[1])\n",
    "    best_error = 10e5\n",
    "    # The perceptron should run for up to max_num_iterations, or stop if it finds a solution with ERM=0\n",
    "    for _ in np.arange(max_num_iterations):\n",
    "        current_w = perceptron_randomized_update(current_w, X, Y)\n",
    "        current_error, _ = count_errors_perceptron(current_w, X, Y)\n",
    "        if current_error == 0:\n",
    "            # found an ERM solution\n",
    "            best_w = current_w.copy()\n",
    "            best_error = current_error\n",
    "            break\n",
    "        if current_error < best_error:\n",
    "            best_w = current_w.copy()\n",
    "            best_error = current_error\n",
    "    return best_w, best_error"
   ]
  },
  {
   "cell_type": "markdown",
   "metadata": {},
   "source": [
    "Let us test the error of the Soft SVM against the perceptron's best model, using 1000 iterations."
   ]
  },
  {
   "cell_type": "code",
   "execution_count": 8,
   "metadata": {},
   "outputs": [
    {
     "name": "stdout",
     "output_type": "stream",
     "text": [
      "Training Error of perceptron: 694\n",
      "Best perceptron model: [ 0.         -1.20686228  0.68675011  0.35239205]\n",
      "Test Error of perceptron: 0.24574468085106382\n"
     ]
    }
   ],
   "source": [
    "w_found, error = perceptron_with_randomization(X_training, Y_training, 1000)\n",
    "print(\"Training Error of perceptron: \" + str(error))\n",
    "print(\"Best perceptron model: \" + str(w_found))\n",
    "true_loss_estimate =  count_errors_perceptron(w_found, X_test, Y_test)[0] / len(Y_test)    # Error rate on the test set    \n",
    "print(\"Test Error of perceptron: \" + str(true_loss_estimate))"
   ]
  },
  {
   "cell_type": "markdown",
   "metadata": {},
   "source": [
    "Now we can try to see the effect of $\\lambda$. Consider values $10, 1, 0.1, 0.01, 0.001$ and run a K-fold cross validation (you can use the code from Lab 3). Plot the margin and outlier count. Use the loss (i.e., the number of misclassified points) as a score.\n",
    "\n",
    "\n",
    "**Remember**: $\\lambda \\rightarrow 0 $: hard SVM, $\\lambda \\rightarrow +\\infty $: very soft SVM"
   ]
  },
  {
   "cell_type": "code",
   "execution_count": 43,
   "metadata": {},
   "outputs": [],
   "source": [
    "def K_fold(X_training: np.ndarray, Y_training: np.ndarray, lambda_vec: np.ndarray, K: np.ndarray, max_num_iterations: int, averaging_iterations: int) -> np.ndarray:\n",
    "    ## TODO: Perform K-fold cross-validation\n",
    "    \"\"\"\n",
    "    This function assumes that the data X is passed as a matrix with nrows = nsamples, ncols = nfeatures\n",
    "    Returns:\n",
    "    - best_results (tuple): best weights (best_results[0]) and their corresponding lambda parameter (weight[1])\n",
    "    - lambda_scores (list) : average fraction of missclassified samples in the validation set\n",
    "    - margin_list (list): margin computed over the whole training dataset\n",
    "    - \n",
    "    \"\"\"\n",
    "    idxs = np.arange(0, X_training.shape[0])\n",
    "    np.random.shuffle(idxs)\n",
    "    idxs_folds = np.array_split(idxs, K)\n",
    "    lambda_validation_scores = []\n",
    "    margin_list = []\n",
    "    tot_outliers_fraction_list = []\n",
    "    misclassified_fraction_list = []\n",
    "    for lambda_par in lambda_vec:\n",
    "        # First fit using the whole set (it is requested by the exercise)\n",
    "        _, margin, outliers_fraction_tuple = sgd_soft_svm(X_training, Y_training, lambda_par, max_num_iterations, averaging_iterations)\n",
    "        margin_list.append(margin)\n",
    "        tot_outliers_fraction_list.append(outliers_fraction_tuple[0])\n",
    "        misclassified_fraction_list.append(outliers_fraction_tuple[1])\n",
    "\n",
    "        # Now do the K-fold validation\n",
    "        score = 0\n",
    "        for k in range(K):\n",
    "            X_validation_fold = X_training[idxs_folds[k], :]\n",
    "            Y_validation_fold = Y_training[idxs_folds[k]]\n",
    "            idxs_training_fold = np.array( list(set(idxs) - set(idxs_folds[k])) )\n",
    "            X_training_fold = X_training[idxs_training_fold, :]\n",
    "            Y_training_fold = Y_training[idxs_training_fold]\n",
    "            # Learn the weight on the training fold\n",
    "            w_fold, _, _ = sgd_soft_svm(X_training_fold, Y_training_fold, lambda_par, max_num_iterations, averaging_iterations)\n",
    "            # Evaluate error on the validation fold\n",
    "            outliers_tuple = count_outliers(w_fold, X_validation_fold, Y_validation_fold)\n",
    "            score += outliers_tuple[1]/ len(Y_validation_fold)\n",
    "        score /= K\n",
    "        lambda_validation_scores.append(score)\n",
    "    lambda_best = lambda_vec[np.argmin(lambda_validation_scores)]\n",
    "    w_best,_ , _ = sgd_soft_svm(X_training, Y_training, lambda_best, max_num_iterations, averaging_iterations)\n",
    "    best_results = (w_best, lambda_best)\n",
    "    training_outliers_fraction = (tot_outliers_fraction_list, misclassified_fraction_list)\n",
    "    return best_results, lambda_validation_scores, margin_list, training_outliers_fractionx\n"
   ]
  },
  {
   "cell_type": "code",
   "execution_count": 44,
   "metadata": {},
   "outputs": [],
   "source": [
    "# Run the training with K-fold cross-validation and plot the score\n",
    "K = 5\n",
    "lambda_par = [10, 1, 1e-1, 1e-2, 1e-3]\n",
    "\n",
    "best_results, lambda_scores, margin_list, outliers = K_fold(X_training, Y_training, lambda_par, K,  int(1e5), int(1e4))\n"
   ]
  },
  {
   "cell_type": "code",
   "execution_count": 51,
   "metadata": {},
   "outputs": [
    {
     "name": "stderr",
     "output_type": "stream",
     "text": [
      "<>:7: SyntaxWarning: invalid escape sequence '\\l'\n",
      "<>:13: SyntaxWarning: invalid escape sequence '\\l'\n",
      "<>:7: SyntaxWarning: invalid escape sequence '\\l'\n",
      "<>:13: SyntaxWarning: invalid escape sequence '\\l'\n",
      "/var/folders/vk/kftm8379123bsmwrdp8l0xr00000gn/T/ipykernel_1314/4117506734.py:7: SyntaxWarning: invalid escape sequence '\\l'\n",
      "  axs[0].set_xlabel('$\\log(\\lambda)$')\n",
      "/var/folders/vk/kftm8379123bsmwrdp8l0xr00000gn/T/ipykernel_1314/4117506734.py:13: SyntaxWarning: invalid escape sequence '\\l'\n",
      "  axs[1].set_xlabel('$\\log(\\lambda)$')\n"
     ]
    },
    {
     "data": {
      "text/plain": [
       "Text(0, 0.5, 'Margin width')"
      ]
     },
     "execution_count": 51,
     "metadata": {},
     "output_type": "execute_result"
    },
    {
     "data": {
      "image/png": "[encoded data removed]",
      "text/plain": [
       "<Figure size 640x480 with 2 Axes>"
      ]
     },
     "metadata": {},
     "output_type": "display_data"
    }
   ],
   "source": [
    "fig, axs = plt.subplots(nrows = 1, ncols = 2)\n",
    "plt.subplots_adjust(wspace = 0.7)\n",
    "axs[0].scatter(np.log10(lambda_par),lambda_scores)\n",
    "axs[0].plot(np.log10(lambda_par),lambda_scores, color = 'blue', label= 'Average (k-fold) validation loss')\n",
    "axs[0].scatter(np.log10(lambda_par),outliers[1], color = 'orange')\n",
    "axs[0].plot(np.log10(lambda_par),outliers[1], color = 'orange', label= 'Training loss')\n",
    "axs[0].set_xlabel('$\\log(\\lambda)$')\n",
    "axs[0].set_ylabel('Fraction of missclassified samples')\n",
    "axs[0].legend(loc = 'best')\n",
    "\n",
    "axs[1].scatter(np.log10(lambda_par), margin_list)\n",
    "axs[1].plot(np.log10(lambda_par), margin_list)\n",
    "axs[1].set_xlabel('$\\log(\\lambda)$')\n",
    "axs[1].set_ylabel('Margin width')\n"
   ]
  },
  {
   "cell_type": "markdown",
   "metadata": {},
   "source": [
    "What does this tell you about the margins? Which one should you choose? \n",
    "\n",
    "*My Answer* the margin width is a monotonically increasing function of lambda. I expected that, because when $\\lambda$ increases, the SVM becomes more and more \"soft\" i.e. allowing more samples inside the margin == enlarging the margin. The validation loss is minimum at $\\lambda = 10e-2$ so I choose that one.\n",
    "\n",
    "\n",
    "Now compute the test loss of the best Soft SVM. What does this tell you about the algorithm choice over this problem?"
   ]
  },
  {
   "cell_type": "code",
   "execution_count": 52,
   "metadata": {},
   "outputs": [
    {
     "name": "stdout",
     "output_type": "stream",
     "text": [
      "Total outlier fraction (test set): 0.5255319148936171\n",
      "True loss (test set): 0.2478723404255319\n"
     ]
    }
   ],
   "source": [
    "true_error = np.asarray(count_outliers(best_results[0], X_test, Y_test)) / len(Y_test)\n",
    "print(\"Total outlier fraction (test set): \" + str(true_error[0]))\n",
    "print(\"True loss (test set): \" + str(true_error[1]))"
   ]
  },
  {
   "cell_type": "markdown",
   "metadata": {},
   "source": [
    "*My answer* the test loss is almost identical to the validation loss, therefore the algorithm made a good choice."
   ]
  }
 ],
 "metadata": {
  "anaconda-cloud": {},
  "kernelspec": {
   "display_name": "myenv",
   "language": "python",
   "name": "python3"
  },
  "language_info": {
   "codemirror_mode": {
    "name": "ipython",
    "version": 3
   },
   "file_extension": ".py",
   "mimetype": "text/x-python",
   "name": "python",
   "nbconvert_exporter": "python",
   "pygments_lexer": "ipython3",
   "version": "3.12.0"
  }
 },
 "nbformat": 4,
 "nbformat_minor": 4
}
