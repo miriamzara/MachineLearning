{
 "cells": [
  {
   "cell_type": "markdown",
   "id": "faa41216",
   "metadata": {},
   "source": [
    "# MADE UP EXAMPLES FOR EXAM PRACTICE"
   ]
  },
  {
   "cell_type": "code",
   "execution_count": 1,
   "id": "1ff50da9",
   "metadata": {},
   "outputs": [],
   "source": [
    "import numpy as np\n",
    "import random as rnd\n",
    "from matplotlib import pyplot as plt\n",
    "\n",
    "np.random.seed(1)"
   ]
  },
  {
   "cell_type": "code",
   "execution_count": 3,
   "id": "8cbbf63e",
   "metadata": {},
   "outputs": [],
   "source": [
    "class Tree:\n",
    "\n",
    "    def __init__(self):\n",
    "        self.idx = -1    # The index of the feature over which you split (no split: -1)\n",
    "        self.thresh = 0  # The threshold value over which you split (<=: left, >: right)\n",
    "        self.leaf = 0    # 1 if it is a leaf of class 1, -1 if it is a leaf of class -1, 0 if it is an internal node\n",
    "        self.left = []   # Left subtree (empty if it is a leaf)\n",
    "        self.right = []  # Right subtree (empty if it is a leaf)\n",
    "\n",
    "\n",
    "    def count_misclass(left, right):\n",
    "        # left\n",
    "        left_plus_prob = len(np.where(left > 0)[0])/len(left)\n",
    "        left_dominant_sign = 1 if left_plus_prob >= 0.5 else -1\n",
    "        left_misclass = len(np.where(left != left_dominant_sign)[0])\n",
    "        # right\n",
    "        right_plus_prob = len(np.where(right > 0)[0])/len(right)\n",
    "        right_dominant_sign = 1 if right_plus_prob >= 0.5 else -1\n",
    "        right_misclass = len(np.where(right != right_dominant_sign)[0])\n",
    "        # total\n",
    "        misclass = left_misclass + right_misclass\n",
    "        return misclass\n",
    "\n",
    "\n",
    "    def classify(self, x):\n",
    "        ## TO DO: classify the point x (easy for leaves, you have to go down the tree if the node is internal)\n",
    "        if (self.leaf != 0):\n",
    "            return self.leaf\n",
    "        elif (x[self.idx] > self.thresh):\n",
    "            return self.right.classify(x)\n",
    "        else:\n",
    "            return self.left.classify(x)\n",
    "        \n",
    "\n",
    "    def id3_training(self, X, Y, max_depth, printing):\n",
    "        # Check if the node is a leaf (all nodes have the same label)\n",
    "        if (np.max(Y) - np.min(Y) < 1e-3):\n",
    "            self.leaf = np.max(Y)\n",
    "            if (printing):\n",
    "                print('Remaining depth: ' + str(max_depth) + ', leaf node (all labels are the same over ' + str(len(Y)) + ' points)')\n",
    "            return\n",
    "        # If the maximum depth is 0, the node must be a leaf!\n",
    "        if (max_depth < 1):\n",
    "            if (printing):\n",
    "                print('Remaining depth: ' + str(max_depth) + ', leaf node (maximum depth reached, ' + str(len(Y)) + ' points)')\n",
    "            if (len(np.where(Y > 0)) > len(Y) / 2):\n",
    "                self.leaf = 1\n",
    "            else:\n",
    "                self.leaf = -1\n",
    "            return\n",
    "        # Find the best split: iterate over features\n",
    "        best_idx = -1\n",
    "        best_thresh = -1\n",
    "        best_miss = 1e9\n",
    "        ## TO DO: Iterate over the features and threshold values! \n",
    "        for feature in range(X.shape[1]):\n",
    "            sorted = np.unique(X[:, feature]) # sorted and unique vals\n",
    "            thresholds = [(sorted[i] + sorted[i+1])/2 for i in range(len(sorted) - 1)]\n",
    "            for t in thresholds:\n",
    "                left_idxs = np.where(X[:, feature] <= t)\n",
    "                right_idxs = np.where(X[:, feature] > t)\n",
    "                miss = Tree.count_misclass(Y[left_idxs], Y[right_idxs])\n",
    "                if miss < best_miss:\n",
    "                    best_idx = feature\n",
    "                    best_thresh = t\n",
    "                    best_miss = miss\n",
    "        ##########################\n",
    "        if (best_idx == -1):\n",
    "            # No valid features! The points are all identical\n",
    "            self.leaf = np.sign(np.sum(Y))\n",
    "            if (self.leaf == 0):\n",
    "                self.leaf = 1\n",
    "            if (printing):\n",
    "                print('Remaining depth: ' + str(max_depth) + ', leaf node (all inputs are the same over ' + str(len(Y)) + ' points)')\n",
    "            return\n",
    "        left_samples = np.where(X[:, best_idx] <= best_thresh)[0]\n",
    "        right_samples = np.where(X[:, best_idx] > best_thresh)[0]\n",
    "        if (printing):\n",
    "            print('Remaining depth: ' + str(max_depth) + ', splitting ' + str(len(Y)) + ' elements into ' + str(len(left_samples)) + ' and ' + str(len(right_samples)) + ' over feature ' + str(best_idx))\n",
    "        ## TO DO: run the next recursive step of ID3 over the left and right subtrees!\n",
    "        self.thresh = best_thresh\n",
    "        self.idx = best_idx\n",
    "        self.left = Tree()\n",
    "        self.right = Tree()\n",
    "        self.left.id3_training(X[left_samples], Y[left_samples], max_depth - 1, printing)\n",
    "        self.right.id3_training(X[right_samples], Y[right_samples], max_depth - 1, printing)\n",
    "\n",
    "    \n",
    "    def print_tree(self, depth=0):\n",
    "        \"\"\"Pretty-print the tree structure.\"\"\"\n",
    "        prefix = \"    \" * depth  # indentation\n",
    "        if self.leaf != 0:\n",
    "            print(prefix + f\"Leaf: class {self.leaf}\")\n",
    "        else:\n",
    "            print(prefix + f\"[x{self.idx} <= {self.thresh:.2f}]\")\n",
    "            if self.left:\n",
    "                print(prefix + \"L-> \", end=\"\")\n",
    "                self.left.print_tree(depth + 1)\n",
    "            if self.right:\n",
    "                print(prefix + \"R-> \", end=\"\")\n",
    "                self.right.print_tree(depth + 1)"
   ]
  },
  {
   "cell_type": "code",
   "execution_count": 16,
   "id": "f9b59631",
   "metadata": {},
   "outputs": [
    {
     "name": "stdout",
     "output_type": "stream",
     "text": [
      "[[0.8 0.9]\n",
      " [0.3 0.8]\n",
      " [0.8 0. ]\n",
      " [0.5 0.3]\n",
      " [0.9 0.9]\n",
      " [0.5 0.7]\n",
      " [0.6 0. ]\n",
      " [0.4 0.7]\n",
      " [0.8 0.1]\n",
      " [0.6 0.2]]\n",
      "[-1 -1 -1 -1 -1  1  1  1  1  1]\n"
     ]
    },
    {
     "data": {
      "image/png": "[encoded data removed]",
      "text/plain": [
       "<Figure size 640x480 with 1 Axes>"
      ]
     },
     "metadata": {},
     "output_type": "display_data"
    }
   ],
   "source": [
    "np.random.seed(3)\n",
    "\n",
    "X = 0.1* np.random.choice(a = np.arange(0, 10), size = (10, 2))\n",
    "Y = np.array([-1, -1, -1, -1, -1, +1, +1, +1, +1, +1])\n",
    "color = [\"blue\" if y==-1 else \"red\" for y in Y]\n",
    "\n",
    "print(X)\n",
    "print(Y)\n",
    "\n",
    "plt.scatter(X[:, 0], X[:, 1], color = color)\n",
    "plt.grid()"
   ]
  },
  {
   "cell_type": "code",
   "execution_count": 17,
   "id": "9fb29867",
   "metadata": {},
   "outputs": [
    {
     "name": "stdout",
     "output_type": "stream",
     "text": [
      "Remaining depth: 10, splitting 10 elements into 7 and 3 over feature 1\n",
      "Remaining depth: 9, splitting 7 elements into 1 and 6 over feature 0\n",
      "Remaining depth: 8, leaf node (all labels are the same over 1 points)\n",
      "Remaining depth: 8, splitting 6 elements into 2 and 4 over feature 0\n",
      "Remaining depth: 7, splitting 2 elements into 1 and 1 over feature 1\n",
      "Remaining depth: 6, leaf node (all labels are the same over 1 points)\n",
      "Remaining depth: 6, leaf node (all labels are the same over 1 points)\n",
      "Remaining depth: 7, splitting 4 elements into 2 and 2 over feature 0\n",
      "Remaining depth: 6, leaf node (all labels are the same over 2 points)\n",
      "Remaining depth: 6, splitting 2 elements into 1 and 1 over feature 1\n",
      "Remaining depth: 5, leaf node (all labels are the same over 1 points)\n",
      "Remaining depth: 5, leaf node (all labels are the same over 1 points)\n",
      "Remaining depth: 9, leaf node (all labels are the same over 3 points)\n",
      "[x1 <= 0.75]\n",
      "L->     [x0 <= 0.45]\n",
      "    L->         Leaf: class 1\n",
      "    R->         [x0 <= 0.55]\n",
      "        L->             [x1 <= 0.50]\n",
      "            L->                 Leaf: class -1\n",
      "            R->                 Leaf: class 1\n",
      "        R->             [x0 <= 0.70]\n",
      "            L->                 Leaf: class 1\n",
      "            R->                 [x1 <= 0.05]\n",
      "                L->                     Leaf: class -1\n",
      "                R->                     Leaf: class 1\n",
      "R->     Leaf: class -1\n"
     ]
    }
   ],
   "source": [
    "my_tree = Tree()\n",
    "my_tree.id3_training(X, Y, 10, True)\n",
    "my_tree.print_tree()"
   ]
  }
 ],
 "metadata": {
  "kernelspec": {
   "display_name": "myenv",
   "language": "python",
   "name": "python3"
  },
  "language_info": {
   "codemirror_mode": {
    "name": "ipython",
    "version": 3
   },
   "file_extension": ".py",
   "mimetype": "text/x-python",
   "name": "python",
   "nbconvert_exporter": "python",
   "pygments_lexer": "ipython3",
   "version": "3.12.0"
  }
 },
 "nbformat": 4,
 "nbformat_minor": 5
}
