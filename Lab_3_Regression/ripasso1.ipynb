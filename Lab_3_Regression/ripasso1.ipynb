{
 "cells": [
  {
   "cell_type": "markdown",
   "metadata": {},
   "source": [
    "# Machine Learning LAB 3: LINEAR REGRESSION\n",
    "\n",
    "Course 2024/25: *F. Chiariotti*\n",
    "\n",
    "The notebook contains some simple tasks to be performed with **LINEAR REGRESSION MODELS**.\n",
    "\n",
    "Complete all the **required code sections**.\n",
    "\n",
    "### IMPORTANT for the exam:\n",
    "\n",
    "The functions you might be required to implement in the exam will have the same signature and parameters as the ones in the labs"
   ]
  },
  {
   "cell_type": "markdown",
   "metadata": {},
   "source": [
    "## VR traffic prediction\n",
    "\n",
    "In this notebook, we will explore the prediction of Virtual Reality (VR) traffic. The data come from the paper:\n",
    "\n",
    "Lecci, Mattia, _et al._ \"An open framework for analyzing and modeling XR network traffic.\" IEEE Access 9 (2021): 129782-129795.\n",
    "\n",
    "The VR game Virus Popper was instantiated on a computer through the RiftCat application: the user could then see the virtual content on their phone, which was strapped to their head with a Cardboard viewer. The file virus_popper.csv contains three columns from the traffic capture:\n",
    "idx    | frame size (B) |  time (s)\n",
    "0      | 38424          |  0.0\n",
    "1      | 39801          |  0.01944\n",
    "...\n",
    "\n",
    "The game was run at 60 frames per second, with a target rate of 30 Mb/s. The task is then to predict the size of the next frame, given the past N frames. This was explored in another paper:\n",
    "\n",
    "Chiariotti, Federico, _et al._ \"Temporal characterization and prediction of vr traffic: A network slicing use case.\" IEEE Transactions on Mobile Computing 23.5 (2023): 3890-3908.\n",
    "\n",
    "---"
   ]
  },
  {
   "cell_type": "markdown",
   "metadata": {},
   "source": [
    "## Import all the necessary Python libraries"
   ]
  },
  {
   "cell_type": "code",
   "execution_count": 3,
   "metadata": {},
   "outputs": [],
   "source": [
    "import numpy as np\n",
    "import pandas as pd\n",
    "import random as rnd\n",
    "from matplotlib import pyplot as plt\n",
    "from sklearn import linear_model, preprocessing\n",
    "from sklearn.model_selection import train_test_split\n",
    "\n",
    "np.random.seed(1)\n",
    "\n",
    "def load_dataset(filename):\n",
    "    data_train = pd.read_csv(filename)\n",
    "    data = data_train.iloc[:, 1].values # Get the second column (frame size) as the input\n",
    "    return data\n",
    "\n",
    "# Load the dataset\n",
    "data = load_dataset('data/virus_popper.csv')"
   ]
  },
  {
   "cell_type": "markdown",
   "metadata": {},
   "source": [
    "## Prepare the data and create training and test sets\n",
    "\n",
    "In this case, we are learning a time series: let us consider a memory of 2 samples, i.e., use X[n-1] and X[n-2] to predict X[n]."
   ]
  },
  {
   "cell_type": "code",
   "execution_count": 4,
   "metadata": {},
   "outputs": [
    {
     "name": "stdout",
     "output_type": "stream",
     "text": [
      "(25878, 3) (25878,) (8625, 3) (8625,)\n"
     ]
    }
   ],
   "source": [
    "# Normalize the dataset\n",
    "avg_size = np.mean(data)\n",
    "norm_data = np.asarray(data) / avg_size\n",
    "\n",
    "# Compute the splits and prepare the columns\n",
    "m_training = int(0.75*norm_data.shape[0])\n",
    "\n",
    "X_training = np.ones([m_training - 2, 3])\n",
    "X_training[:,1] = norm_data[: m_training - 2]\n",
    "X_training[:,2] = norm_data[1 : m_training - 1]\n",
    "Y_training = norm_data[2 : m_training]\n",
    "\n",
    "\n",
    "X_test = np.ones([norm_data.shape[0] - m_training - 2, 3])\n",
    "X_test[:,1] = norm_data[m_training : -2]\n",
    "X_test[:,2] = norm_data[m_training + 1 : -1]\n",
    "Y_test = norm_data[m_training + 2:]\n",
    "\n",
    "print(np.shape(X_training), np.shape(Y_training), np.shape(X_test), np.shape(Y_test))"
   ]
  },
  {
   "cell_type": "markdown",
   "metadata": {},
   "source": [
    "## Least Squares linear regression\n",
    "\n",
    "Train and evaluate the LS regressor on the data"
   ]
  },
  {
   "cell_type": "code",
   "execution_count": 5,
   "metadata": {},
   "outputs": [],
   "source": [
    "# Least squares solution\n",
    "def least_squares(X_matrix: np.ndarray, labels: np.ndarray) -> None:\n",
    "    ## TODO: Run the LS algorithm without regularization\n",
    "    A = np.matmul(X_matrix.T, X_matrix)\n",
    "    B = np.matmul(X_matrix.T, labels)\n",
    "    if np.any(np.isclose(np.linalg.det(A), 0)):\n",
    "        raise ValueError(\"Matrix A is not invertible\")\n",
    "    return np.matmul(np.linalg.inv(A), B)\n",
    "\n",
    "def evaluate_model(x, y, coeff):\n",
    "    ## TODO: Return the average MSE for the set over which we evaluate\n",
    "    y_predicted = np.matmul(x, coeff)\n",
    "    mse = np.mean((y_predicted - y)**2)\n",
    "    return mse"
   ]
  },
  {
   "cell_type": "code",
   "execution_count": 6,
   "metadata": {},
   "outputs": [
    {
     "name": "stdout",
     "output_type": "stream",
     "text": [
      "Model coefficients: [0.36986742 0.20348677 0.42565451]\n",
      "Root MSE: 7712.35472153933\n"
     ]
    }
   ],
   "source": [
    "# Run the LS training and test it on the test data\n",
    "trained_model = least_squares(X_training, Y_training)\n",
    "mse = evaluate_model(X_test, Y_test, trained_model)\n",
    "print('Model coefficients:', trained_model)\n",
    "print('Root MSE:', np.sqrt(mse) * avg_size)"
   ]
  },
  {
   "cell_type": "markdown",
   "metadata": {},
   "source": [
    "---"
   ]
  },
  {
   "cell_type": "markdown",
   "metadata": {},
   "source": [
    "## Least Squares with Tikhonov regularization\n",
    "\n",
    "Perform K-fold cross validation with $\\lambda\\in\\{0, 0.1, 1, 10\\}$"
   ]
  },
  {
   "cell_type": "code",
   "execution_count": 13,
   "metadata": {},
   "outputs": [],
   "source": [
    "# Least squares solution\n",
    "def regularized_least_squares(X_matrix: np.ndarray, labels: np.ndarray, lambda_par: np.ndarray) -> None:\n",
    "    ## TODO: Run the LS algorithm with regularization\n",
    "    lambda_par_normalized = lambda_par / X_matrix.shape[0]\n",
    "    A = np.matmul(X_matrix.T, X_matrix) + lambda_par_normalized * np.eye(X_matrix.shape[1])\n",
    "    B = np.matmul(X_matrix.T, labels)\n",
    "    return np.matmul(np.linalg.inv(A), B)\n",
    "\n",
    "def K_fold(X_training: np.ndarray, Y_training: np.ndarray, lambda_vec: np.ndarray, K: np.ndarray) -> None:\n",
    "    ## TODO: Perform K-fold cross-validation\n",
    "    shuffled_idxs = np.arange(X_training.shape[0])\n",
    "    np.random.shuffle(shuffled_idxs)\n",
    "    val_idxs = np.array_split(shuffled_idxs, K)\n",
    "    fold_idxs = [np.setdiff1d(shuffled_idxs, val_idxs[i]) for i in range(K)]\n",
    "    best_model = np.zeros(X_training.shape[1])\n",
    "    best_perf = 10e9\n",
    "    models = []\n",
    "    results = []\n",
    "    for lambda_par in lambda_vec:\n",
    "        avg_perf = 0\n",
    "        for k in range(K):\n",
    "            xt, yt = X_training[fold_idxs[k]], Y_training[fold_idxs[k]]\n",
    "            xv, yv = X_training[val_idxs[k]], Y_training[val_idxs[k]]\n",
    "            fold_model = regularized_least_squares(xt, yt, lambda_par)\n",
    "            avg_perf += evaluate_model(xv, yv, fold_model)/K\n",
    "        # now on whole dataset\n",
    "        results.append(avg_perf)\n",
    "        model = regularized_least_squares(X_training, Y_training, lambda_par)\n",
    "        models.append(model)\n",
    "        if avg_perf < best_perf:\n",
    "            best_model = model\n",
    "            best_perf = avg_perf\n",
    "    return best_model, best_perf, models, results"
   ]
  },
  {
   "cell_type": "code",
   "execution_count": 17,
   "metadata": {},
   "outputs": [
    {
     "name": "stdout",
     "output_type": "stream",
     "text": [
      "[0.3692979  0.20538401 0.42424695] [np.float64(0.021434472985412508), np.float64(0.021434472863453236), np.float64(0.02143447272307277), np.float64(0.02143447256149617), np.float64(0.021434472375532834), np.float64(0.02143447216151537), np.float64(0.021434471915228938), np.float64(0.021434471631831233), np.float64(0.021434471305760944), np.float64(0.021434470930633283), np.float64(0.02143447049912159), np.float64(0.02143447000282253), np.float64(0.02143446943210385), np.float64(0.021434468775932514), np.float64(0.021434468021680933), np.float64(0.02143446715491065), np.float64(0.021434466159130694), np.float64(0.021434465015530313), np.float64(0.02143446370268535), np.float64(0.021434462196238138), np.float64(0.021434460468554874), np.float64(0.0214344584883624), np.float64(0.021434456220374022), np.float64(0.02143445362491524), np.float64(0.0214344506575687), np.float64(0.021434447268864516), np.float64(0.021434443404055505), np.float64(0.021434439003032178), np.float64(0.02143443400045298), np.float64(0.021434428326196974), np.float64(0.021434421906280705), np.float64(0.021434414664437143), np.float64(0.021434406524617464), np.float64(0.021434397414771846), np.float64(0.021434387272377887), np.float64(0.021434376052342885), np.float64(0.021434363738106105), np.float64(0.02143435035702431), np.float64(0.021434336001460847), np.float64(0.02143432085742237), np.float64(0.02143430524312881), np.float64(0.021434289660582116), np.float64(0.02143427486404239), np.float64(0.021434261950355245), np.float64(0.02143425247732455), np.float64(0.021434248617797184), np.float64(0.0214342533588266), np.float64(0.02143427075715899), np.float64(0.02143430626426298), np.float64(0.021434367136028518)]\n"
     ]
    },
    {
     "name": "stderr",
     "output_type": "stream",
     "text": [
      "<>:10: SyntaxWarning: invalid escape sequence '\\l'\n",
      "<>:10: SyntaxWarning: invalid escape sequence '\\l'\n",
      "/var/folders/vk/kftm8379123bsmwrdp8l0xr00000gn/T/ipykernel_11754/4253858695.py:10: SyntaxWarning: invalid escape sequence '\\l'\n",
      "  plt.xlabel('$\\lambda$')\n"
     ]
    },
    {
     "data": {
      "image/png": "[encoded data removed]",
      "text/plain": [
       "<Figure size 640x480 with 1 Axes>"
      ]
     },
     "metadata": {},
     "output_type": "display_data"
    }
   ],
   "source": [
    "# Run the training with K-fold cross-validation and plot the score\n",
    "K = 5\n",
    "\n",
    "# already normalized, ranging from 0.01 to 10\n",
    "lambda_par = X_training.shape[0] * 10**np.linspace(-2, +1, 50)\n",
    "\n",
    "best_model, best_perf, models, results = K_fold(X_training, Y_training, lambda_par, K)\n",
    "print(best_model, results)\n",
    "plt.plot(lambda_par, np.sqrt(results) * avg_size)\n",
    "plt.xlabel('$\\lambda$')\n",
    "plt.ylabel('RMSE')\n",
    "plt.show()\n"
   ]
  },
  {
   "cell_type": "code",
   "execution_count": 18,
   "metadata": {},
   "outputs": [
    {
     "name": "stderr",
     "output_type": "stream",
     "text": [
      "<>:8: SyntaxWarning: invalid escape sequence '\\l'\n",
      "<>:8: SyntaxWarning: invalid escape sequence '\\l'\n",
      "/var/folders/vk/kftm8379123bsmwrdp8l0xr00000gn/T/ipykernel_11754/1799133235.py:8: SyntaxWarning: invalid escape sequence '\\l'\n",
      "  plt.xlabel('$\\lambda$')\n"
     ]
    },
    {
     "data": {
      "image/png": "[encoded data removed]",
      "text/plain": [
       "<Figure size 640x480 with 1 Axes>"
      ]
     },
     "metadata": {},
     "output_type": "display_data"
    }
   ],
   "source": [
    "# Plot the results for the regularized models on the test set\n",
    "test_scores = np.zeros(len(models))\n",
    "\n",
    "for i in range(len(models)):\n",
    "    test_scores[i] = evaluate_model(X_test, Y_test, models[i])\n",
    "\n",
    "plt.plot(lambda_par, np.sqrt(test_scores) * avg_size)\n",
    "plt.xlabel('$\\lambda$')\n",
    "plt.ylabel('RMSE')\n",
    "plt.show()\n"
   ]
  },
  {
   "cell_type": "markdown",
   "metadata": {},
   "source": [
    "### EXTRA\n",
    "\n",
    "Can you figure out the best amount of memory (=== number of frames to predict the size of the next frame, i.e. order of the autoregressive model) to use?\n",
    "\n",
    "\n",
    "*Answer*\n",
    "- perform cross validation also for the number of frames, determine when overfitting begins.\n",
    "- plot autocorrelation between pixels at lag T, determine lag for which correlation drops to zero."
   ]
  }
 ],
 "metadata": {
  "kernelspec": {
   "display_name": "myenv",
   "language": "python",
   "name": "python3"
  },
  "language_info": {
   "codemirror_mode": {
    "name": "ipython",
    "version": 3
   },
   "file_extension": ".py",
   "mimetype": "text/x-python",
   "name": "python",
   "nbconvert_exporter": "python",
   "pygments_lexer": "ipython3",
   "version": "3.12.0"
  }
 },
 "nbformat": 4,
 "nbformat_minor": 4
}
