{
 "cells": [
  {
   "cell_type": "markdown",
   "metadata": {},
   "source": [
    "# Machine Learning LAB 2: Perceptrons\n",
    "\n",
    "Course 2024/25: *F. Chiariotti*\n",
    "\n",
    "The notebook contains a simple learning task over which we will implement **PERCEPTRON**.\n",
    "\n",
    "Complete all the **required code sections** and **answer all the questions**.\n",
    "\n",
    "### IMPORTANT for the exam:\n",
    "\n",
    "The functions you might be required to implement in the exam will have the same signature and parameters as the ones in the labs"
   ]
  },
  {
   "cell_type": "markdown",
   "metadata": {},
   "source": [
    "## Classification of Stayed/Churned Customers"
   ]
  },
  {
   "cell_type": "markdown",
   "metadata": {},
   "source": [
    "The Customer Churn table contains information on all 3,758 customers from a Telecommunications company in California in Q2 2022. Companies are naturally interested in churn, i.e., in which users are likely to switch to another company soon to get a better deal, and which are more loyal customers.\n",
    "\n",
    "The dataset contains three features:\n",
    "- **Tenure in Months**: Number of months the customer has stayed with the company\n",
    "- **Monthly Charge**: The amount charged to the customer monthly\n",
    "- **Age**: Customer's age\n",
    "\n",
    "The aim of the task is to predict if a customer will churn or not based on the three features."
   ]
  },
  {
   "cell_type": "markdown",
   "metadata": {},
   "source": [
    "---"
   ]
  },
  {
   "cell_type": "markdown",
   "metadata": {},
   "source": [
    "## Import all the necessary Python libraries and load the dataset"
   ]
  },
  {
   "cell_type": "markdown",
   "metadata": {},
   "source": [
    "### The Dataset\n",
    "The dataset is a `.csv` file containing three input features and a label. Here is an example of the first 4 rows of the dataset: \n",
    "\n",
    "<center>\n",
    "\n",
    "Tenure in Months | Monthly Charge | Age | Customer Status |\n",
    "| -----------------| ---------------|-----|-----------------|\n",
    "| 9 | 65.6 | 37 | 0 |\n",
    "| 9 | -4.0 | 46 | 0 |\n",
    "| 4 | 73.9 | 50 | 1 |\n",
    "| ... | ... | ... | ... |\n",
    "\n",
    "</center>\n",
    "\n",
    "Customer Status is 0 if the customer has stayed with the company and 1 if the customer has churned."
   ]
  },
  {
   "cell_type": "code",
   "execution_count": 1,
   "metadata": {},
   "outputs": [],
   "source": [
    "import numpy as np\n",
    "import random as rnd\n",
    "import pandas as pd\n",
    "from matplotlib import pyplot as plt\n",
    "from sklearn import linear_model, preprocessing\n",
    "from sklearn.model_selection import train_test_split\n",
    "\n",
    "np.random.seed(42)\n",
    "\n",
    "def load_dataset(filename):\n",
    "    data_train = pd.read_csv(filename)\n",
    "    #permute the data\n",
    "    data_train = data_train.sample(frac=1).reset_index(drop=True) # shuffle the data\n",
    "    X = data_train.iloc[:, 0:3].values # Get first three columns as the input\n",
    "    Y = data_train.iloc[:, 3].values # Get the third column as the label\n",
    "    Y = 2*Y-1 # Make sure labels are -1 or 1 (0 --> -1, 1 --> 1)\n",
    "    return X,Y\n",
    "\n",
    "# Load the dataset\n",
    "X, Y = load_dataset('data/telecom_customer_churn_cleaned.csv')"
   ]
  },
  {
   "cell_type": "markdown",
   "metadata": {},
   "source": [
    "We are going to differentiate (classify) between **class \"1\" (churned)** and **class \"-1\" (stayed)**"
   ]
  },
  {
   "cell_type": "markdown",
   "metadata": {},
   "source": [
    "## Divide the data into training and test sets"
   ]
  },
  {
   "cell_type": "code",
   "execution_count": 2,
   "metadata": {},
   "outputs": [
    {
     "name": "stdout",
     "output_type": "stream",
     "text": [
      "Number of samples in the train set: 2817\n",
      "Number of samples in the test set: 940\n",
      "Number of churned users in test: 465\n",
      "Number of loyal users in test: 475\n",
      "Mean of the training input data: [ 0. -0. -0.]\n",
      "Std of the training input data: [1. 1. 1.]\n",
      "Mean of the test input data: [ 0.0134851   0.04850383 -0.0433016 ]\n",
      "Std of the test input data: [1.00014294 1.00683022 1.02078989]\n"
     ]
    }
   ],
   "source": [
    "# Compute the splits\n",
    "m_training = int(0.75*X.shape[0])\n",
    "\n",
    "# m_test is the number of samples in the test set (total-training)\n",
    "m_test =  X.shape[0] - m_training\n",
    "X_training =  X[:m_training]\n",
    "Y_training =  Y[:m_training]\n",
    "X_test =   X[m_training:]\n",
    "Y_test =  Y[m_training:]\n",
    "\n",
    "print(\"Number of samples in the train set:\", X_training.shape[0])\n",
    "print(\"Number of samples in the test set:\", X_test.shape[0])\n",
    "print(\"Number of churned users in test:\", np.sum(Y_test==-1))\n",
    "print(\"Number of loyal users in test:\", np.sum(Y_test==1))\n",
    "\n",
    "# Standardize the input matrix\n",
    "# The transformation is computed on training data and then used on all the 3 sets\n",
    "scaler = preprocessing.StandardScaler().fit(X_training) \n",
    "\n",
    "np.set_printoptions(suppress=True) # sets to zero floating point numbers < min_float_eps\n",
    "X_training =  scaler.transform(X_training)\n",
    "print (\"Mean of the training input data:\", X_training.mean(axis=0))\n",
    "print (\"Std of the training input data:\",X_training.std(axis=0))\n",
    "\n",
    "X_test =  scaler.transform(X_test)\n",
    "print (\"Mean of the test input data:\", X_test.mean(axis=0))\n",
    "print (\"Std of the test input data:\", X_test.std(axis=0))"
   ]
  },
  {
   "cell_type": "markdown",
   "metadata": {},
   "source": [
    "We will use **homogeneous coordinates** to describe all the coefficients of the model.\n",
    "\n",
    "_Hint:_ The conversion can be performed with the function $hstack$ in $numpy$."
   ]
  },
  {
   "cell_type": "code",
   "execution_count": 3,
   "metadata": {},
   "outputs": [],
   "source": [
    "def to_homogeneous(X_training: np.ndarray, X_test: np.ndarray) -> tuple[np.ndarray, np.ndarray]:\n",
    "    # TODO: Transform the input into homogeneous coordinates\n",
    "    nrows, _  = X_training.shape\n",
    "    Xh_training = np.hstack( (np.ones(shape= (nrows, 1) ), X_training) )\n",
    "    nrows, _  = X_test.shape\n",
    "    Xh_test = np.hstack( (np.ones(shape= (nrows, 1) ), X_test) )\n",
    "    return Xh_training, Xh_test"
   ]
  },
  {
   "cell_type": "code",
   "execution_count": 4,
   "metadata": {},
   "outputs": [
    {
     "name": "stdout",
     "output_type": "stream",
     "text": [
      "Training set in homogeneous coordinates:\n",
      "[[ 1.          1.2361321   0.87798477 -0.16001986]\n",
      " [ 1.          0.10884685  0.4417593   1.37363294]\n",
      " [ 1.          1.69539647 -1.57223186 -0.04204657]\n",
      " [ 1.          0.15059816 -0.93544295  0.84275312]\n",
      " [ 1.          0.56811122 -0.38890759 -0.57292638]\n",
      " [ 1.         -0.39216881 -1.41010975 -0.39596645]\n",
      " [ 1.         -1.0184384  -1.53880462 -1.04481955]\n",
      " [ 1.         -0.35041751 -0.71649454  0.72477983]\n",
      " [ 1.         -1.18544362 -1.45857925  0.4298466 ]\n",
      " [ 1.          1.44488863 -1.4385229  -0.16001986]]\n"
     ]
    }
   ],
   "source": [
    "# convert to homogeneous coordinates using the function above\n",
    "X_training, X_test = to_homogeneous(X_training, X_test)\n",
    "print(\"Training set in homogeneous coordinates:\")\n",
    "print(X_training[:10])"
   ]
  },
  {
   "cell_type": "markdown",
   "metadata": {},
   "source": [
    "## Deterministic perceptron (Pocket Algorithm)\n",
    "\n",
    "Now **complete** the function *perceptron*. <br>\n",
    "The **perceptron** algorithm **does not terminate** if the **data** is not **linearly separable**, therefore your implementation should **terminate** if it **reached the termination** condition seen in class **or** if a **maximum number of iterations** have already been run, where one **iteration** corresponds to **one update of the perceptron weights**. In case the **termination** is reached **because** the **maximum** number of **iterations** have been completed, the implementation should **return the best model** seen throughout.\n",
    "\n",
    "The current version of the perceptron is **deterministic**: we use a fixed rule to decide which sample should be considered (e.g., the one with the lowest index).\n",
    "\n",
    "The input parameters to pass are:\n",
    "- $X$: the matrix of input features, one row for each sample\n",
    "- $Y$: the vector of labels for the input features matrix X\n",
    "- $max\\_num\\_iterations$: the maximum number of iterations for running the perceptron\n",
    "\n",
    "The output values are:\n",
    "- $best\\_w$: the vector with the coefficients of the best model (or the latest, if the termination condition is reached)\n",
    "- $best\\_error$: the *fraction* of misclassified samples for the best model"
   ]
  },
  {
   "cell_type": "code",
   "execution_count": 5,
   "metadata": {},
   "outputs": [],
   "source": [
    "def count_errors(current_w: np.ndarray, X:np.ndarray, Y: np.ndarray):\n",
    "    # This function:\n",
    "    # -computes the number of misclassified samples\n",
    "    # -returns the indexes of all misclassified samples\n",
    "    # -if there are no misclassified samples, returns -1 as index\n",
    "    # TODO: write the function\n",
    "\n",
    "    \"\"\" This works but is SLOW\n",
    "    n = 0\n",
    "    indexes = []\n",
    "    for i in range( X.shape[0] ):\n",
    "        if ( np.dot(X[i, :], current_w) * Y[i] ) <= 0:\n",
    "            n+=1\n",
    "            indexes.append(i)\n",
    "    if not indexes:\n",
    "        indexes = [-1]\n",
    "    return n, indexes\n",
    "    \"\"\"\n",
    "\n",
    "    # Use numpy built-in methods for better performance!\n",
    "    # Time gain is huge !! T_new_method = 1/30 * T_old_method\n",
    "    indexes = np.nonzero(np.sign(np.dot(X, current_w)) - Y)[0] #misclassified\n",
    "    n = len(indexes)\n",
    "    if n== 0:\n",
    "        indexes = [-1]\n",
    "    return n, indexes\n",
    "\n",
    "\n",
    "\n",
    "    \n",
    "def perceptron_fixed_update(current_w: np.ndarray, X:  np.ndarray, Y:  np.ndarray):\n",
    "    # TODO: write the perceptron update function\n",
    "    n, indexes = count_errors(current_w, X, Y)\n",
    "    if n == 0:\n",
    "        new_w = current_w\n",
    "    else:\n",
    "        new_w = current_w + Y[indexes[0]] *  X[indexes[0], :]\n",
    "    return new_w\n",
    "\n",
    "def perceptron_no_randomization(X:  np.ndarray, Y:  np.ndarray, max_num_iterations: int):\n",
    "    # TODO: write the perceptron main loop\n",
    "    # The perceptron should run for up to max_num_iterations, or stop if it finds a solution with ERM=0\n",
    "\n",
    "    \"\"\"\n",
    "    # Random inizialization\n",
    "    idx = np.random.choice(np.arange(0, X.shape[0]), size = 1)\n",
    "    w = X[idx[0],:] * Y[idx[0]]\n",
    "    n, _ = count_errors(w, X, Y)\n",
    "    error = n / X.shape[0]\n",
    "    \"\"\"\n",
    "    # Zero weight inizialization\n",
    "    w = np.zeros(shape= X.shape[1])\n",
    "    n, _ = count_errors(w, X, Y)\n",
    "    error = n / X.shape[0]\n",
    "\n",
    "\n",
    "    best_error = error\n",
    "    \"\"\"This is WRONG !!!\n",
    "    best_w = w\n",
    "    \"\"\"\n",
    "    best_w = w.copy()\n",
    "\n",
    "    iters = 0\n",
    "    for _ in range(max_num_iterations):\n",
    "        iters += 1\n",
    "        w = perceptron_fixed_update(w, X, Y)\n",
    "        n, _ = count_errors(w, X, Y)\n",
    "        error = n / X.shape[0]\n",
    "\n",
    "        if error <  best_error:\n",
    "            best_error = error\n",
    "            best_w = w.copy() # Be careful!!\n",
    "\n",
    "        if  error == 0:\n",
    "            break\n",
    "\n",
    "    return best_w, best_error, iters"
   ]
  },
  {
   "cell_type": "markdown",
   "metadata": {},
   "source": [
    "Now we use the implementation above of the perceptron to learn a model from the training data using 30 iterations and print the error of the best model we have found."
   ]
  },
  {
   "cell_type": "code",
   "execution_count": 6,
   "metadata": {},
   "outputs": [
    {
     "name": "stdout",
     "output_type": "stream",
     "text": [
      "Training Error of perceptron (30 iterations): 0.24565140220092296. Effective iterations: 30\n",
      "Training Error of perceptron (100 iterations): 0.24565140220092296. Effective iterations: 100\n"
     ]
    }
   ],
   "source": [
    "w_found, error, iters = perceptron_no_randomization(X_training,Y_training, 30)\n",
    "print(\"Training Error of perceptron (30 iterations): \" + str(error) + \". Effective iterations: \" + str(iters))\n",
    "w_found2, error2, iters = perceptron_no_randomization(X_training,Y_training, 100)\n",
    "print(\"Training Error of perceptron (100 iterations): \" + str(error2) + \". Effective iterations: \" + str(iters))"
   ]
  },
  {
   "cell_type": "markdown",
   "metadata": {},
   "source": [
    "Now use the best model $w\\_found$ to **predict the labels for the test dataset** and print the fraction of misclassified samples in the test set (the test error that is an estimate of the true loss)."
   ]
  },
  {
   "cell_type": "code",
   "execution_count": 7,
   "metadata": {},
   "outputs": [
    {
     "name": "stdout",
     "output_type": "stream",
     "text": [
      "Test Error of perceptron (30 iterations): 0.25\n",
      "Test Error of perceptron (100 iterations): 0.25\n"
     ]
    }
   ],
   "source": [
    "def loss_estimate(w, X, Y):\n",
    "    # TODO Estimate the test loss\n",
    "    n, _ = count_errors(w, X, Y)\n",
    "    t_loss_estimate = n / X.shape[0]\n",
    "    return t_loss_estimate\n",
    "\n",
    "\n",
    "true_loss_estimate =  loss_estimate(w_found, X_test, Y_test)       # Error rate on the test set\n",
    "true_loss_estimate2 =  loss_estimate(w_found2, X_test, Y_test) \n",
    "    \n",
    "print(\"Test Error of perceptron (30 iterations): \" + str(true_loss_estimate))\n",
    "print(\"Test Error of perceptron (100 iterations): \" + str(true_loss_estimate2))"
   ]
  },
  {
   "cell_type": "markdown",
   "metadata": {},
   "source": [
    "### Randomized perceptron\n",
    "\n",
    "Implement the correct randomized version of the perceptron such that at each iteration the algorithm picks a random misclassified sample and updates the weights using that sample. The functions will be very similar, except for some minor details."
   ]
  },
  {
   "cell_type": "code",
   "execution_count": 8,
   "metadata": {},
   "outputs": [],
   "source": [
    "def perceptron_randomized_update(current_w, X, Y):\n",
    "    # TODO: write the perceptron update function\n",
    "    n, indexes = count_errors(current_w, X, Y)\n",
    "    if n == 0:\n",
    "        new_w = current_w.copy()\n",
    "    else:\n",
    "        idx = np.random.choice(indexes, size = 1)\n",
    "        new_w = current_w + Y[idx[0]] *  X[idx[0], :]\n",
    "    return new_w\n",
    "\n",
    "def perceptron_with_randomization(X, Y, max_num_iterations):\n",
    "    # TODO: write the perceptron main loop\n",
    "    # The perceptron should run for up to max_num_iterations, or stop if it finds a solution with ERM=0\n",
    "\n",
    "    \"\"\"\n",
    "    # Random initialization\n",
    "    idx = np.random.choice(np.arange(0, X.shape[0]), size = 1)\n",
    "    w = X[idx[0],:] * Y[idx[0]]\n",
    "    n, _ = count_errors(w, X, Y)\n",
    "    error = n / X.shape[0]\n",
    "    \"\"\"\n",
    "    # Zero weight inizialization\n",
    "    w = np.zeros(shape= X.shape[1])\n",
    "    n, _ = count_errors(w, X, Y)\n",
    "    error = n / X.shape[0]\n",
    "\n",
    "    best_error = error\n",
    "    best_w = w.copy()\n",
    "\n",
    "    iters = 0\n",
    "    for _ in range(max_num_iterations):\n",
    "        iters += 1\n",
    "        # Random update\n",
    "        w = perceptron_randomized_update(w, X, Y)\n",
    "        n, _ = count_errors(w, X, Y)\n",
    "        error = n / X.shape[0]\n",
    "\n",
    "        if error <  best_error:\n",
    "            best_error = error\n",
    "            best_w = w.copy()\n",
    "\n",
    "        if  error == 0:\n",
    "            break\n",
    "\n",
    "    return best_w, best_error, iters"
   ]
  },
  {
   "cell_type": "markdown",
   "metadata": {},
   "source": [
    "Now test the correct version of the perceptron using 30 iterations and print the error of the best model we have found."
   ]
  },
  {
   "cell_type": "code",
   "execution_count": 9,
   "metadata": {},
   "outputs": [
    {
     "name": "stdout",
     "output_type": "stream",
     "text": [
      "Training Error of perceptron (30 iterations): 0.2552360667376642. Effective iterations: 30\n",
      "Training Error of perceptron (100 iterations): 0.24671636492722754. Effective iterations: 100\n",
      "Test Error of perceptron (30 iterations): 0.25851063829787235\n",
      "Test Error of perceptron (100 iterations): 0.251063829787234\n"
     ]
    }
   ],
   "source": [
    "# Now run the perceptron for 30 iterations\n",
    "w_found, error, iters = perceptron_with_randomization(X_training, Y_training, 30)\n",
    "w_found2, error2, iters2 = perceptron_with_randomization(X_training, Y_training, 100)\n",
    "print(\"Training Error of perceptron (30 iterations): \" + str(error) + \". Effective iterations: \" + str(iters))\n",
    "print(\"Training Error of perceptron (100 iterations): \" + str(error2) + \". Effective iterations: \" + str(iters2))\n",
    "\n",
    "true_loss_estimate =  loss_estimate(w_found, X_test, Y_test)       # Error rate on the test set\n",
    "true_loss_estimate2 =  loss_estimate(w_found2, X_test, Y_test) \n",
    "\n",
    "print(\"Test Error of perceptron (30 iterations): \" + str(true_loss_estimate))\n",
    "print(\"Test Error of perceptron (100 iterations): \" + str(true_loss_estimate2))"
   ]
  },
  {
   "cell_type": "code",
   "execution_count": 10,
   "metadata": {},
   "outputs": [
    {
     "name": "stdout",
     "output_type": "stream",
     "text": [
      "30\n",
      "50\n",
      "70\n",
      "90\n",
      "110\n",
      "130\n",
      "150\n",
      "170\n",
      "190\n",
      "210\n",
      "230\n",
      "250\n",
      "270\n",
      "290\n",
      "310\n",
      "330\n",
      "350\n",
      "370\n",
      "390\n",
      "410\n",
      "430\n",
      "450\n",
      "470\n",
      "490\n",
      "510\n",
      "530\n",
      "550\n",
      "570\n",
      "590\n",
      "610\n",
      "630\n",
      "650\n",
      "670\n",
      "690\n",
      "710\n",
      "730\n",
      "750\n",
      "770\n",
      "790\n",
      "810\n",
      "830\n",
      "850\n",
      "870\n",
      "890\n",
      "910\n",
      "930\n",
      "950\n",
      "970\n",
      "990\n"
     ]
    }
   ],
   "source": [
    "# TODO Plot the loss with respect to the number of iterations (up to 1000)\n",
    "iters_array = np.arange(30, 1000, 20)\n",
    "errors_fixed_update = []\n",
    "errors_randomized_update = []\n",
    "for max_iters in iters_array:\n",
    "    print(max_iters)\n",
    "    w, error, _ = perceptron_no_randomization(X_training, Y_training, max_iters)\n",
    "    errors_fixed_update.append( error )\n",
    "    w, error, _ = perceptron_with_randomization(X_training, Y_training, max_iters)\n",
    "    errors_randomized_update.append( error )"
   ]
  },
  {
   "cell_type": "code",
   "execution_count": 11,
   "metadata": {},
   "outputs": [
    {
     "data": {
      "text/plain": [
       "<matplotlib.legend.Legend at 0x141f761e0>"
      ]
     },
     "execution_count": 11,
     "metadata": {},
     "output_type": "execute_result"
    },
    {
     "data": {
      "image/png": "[encoded data removed]",
      "text/plain": [
       "<Figure size 640x480 with 1 Axes>"
      ]
     },
     "metadata": {},
     "output_type": "display_data"
    }
   ],
   "source": [
    "import matplotlib.pyplot as plt\n",
    "fig, ax = plt.subplots()\n",
    "ax.plot(iters_array, errors_fixed_update)\n",
    "ax.scatter(iters_array, errors_fixed_update, label = \"fixed\")\n",
    "\n",
    "ax.plot(iters_array, errors_randomized_update)\n",
    "ax.scatter(iters_array, errors_randomized_update, label = \"randomized\")\n",
    "\n",
    "ax.set_xlabel(\"max iters\")\n",
    "ax.set_ylabel(\"test loss\")\n",
    "ax.legend(loc = \"best\")"
   ]
  },
  {
   "cell_type": "code",
   "execution_count": 12,
   "metadata": {},
   "outputs": [
    {
     "name": "stdout",
     "output_type": "stream",
     "text": [
      "[0 2 3 4]\n"
     ]
    }
   ],
   "source": [
    "a = np.array([1,2,3,4])\n",
    "b = a\n",
    "b[0] = 0\n",
    "print(a)"
   ]
  },
  {
   "cell_type": "markdown",
   "metadata": {},
   "source": [
    "### My final comments:\n",
    "\n",
    "The results where expected. I initialized the weights as the zero vector for both the deterministic and randomized perceptron. \n",
    "\n",
    "The deterministic perceptron always chooses the first misclassified sample to update the weights. Since the initial weight is also fixed, the update rule is completely deterministic. The deterministic perceptron with max_iters = 100 and max_iters = 1000 behave identically up to the iteration = 100. Then the latter goes on and can potentially find a smallest error. Therefore *the error of the deterministic perceptron is a monotonically decreasing function of max_iters*.\n",
    "\n",
    "For the randomized perceptron this is not true. Generally, because of the randomness in the choice of the update, the randomized perceptron explores more possibilities and this results in the fact that it is able to find a smaller error than the deterministic counterpart."
   ]
  },
  {
   "cell_type": "markdown",
   "metadata": {},
   "source": [
    "### Careful: BIG mistake to avoid!!\n",
    "Always check wheter you are working with *views* or *copies* !!!\n",
    "\n",
    "```\n",
    "a = np.array([1,2,3,4])\n",
    "b = a\n",
    "b[0] = 0\n",
    "print(a) # [0, 2, 3, 4]\n",
    "```\n",
    "this caused a big error in the computation of best_w: since best_w was assigned as a *view* of current_w, updating best_w also resulted in the modification of current_w !!!"
   ]
  },
  {
   "cell_type": "markdown",
   "metadata": {},
   "source": [
    "## Initialization: setting zero weights is important!\n",
    "\n",
    "Indeed $w_{initial} = \\vec{0}$ is an assumption of the theorem that guarantees perceptron convergence in the separable case."
   ]
  }
 ],
 "metadata": {
  "anaconda-cloud": {},
  "kernelspec": {
   "display_name": "myenv",
   "language": "python",
   "name": "python3"
  },
  "language_info": {
   "codemirror_mode": {
    "name": "ipython",
    "version": 3
   },
   "file_extension": ".py",
   "mimetype": "text/x-python",
   "name": "python",
   "nbconvert_exporter": "python",
   "pygments_lexer": "ipython3",
   "version": "3.12.0"
  }
 },
 "nbformat": 4,
 "nbformat_minor": 4
}
